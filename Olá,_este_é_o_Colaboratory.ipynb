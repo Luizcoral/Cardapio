{
  "cells": [
    {
      "cell_type": "markdown",
      "metadata": {
        "id": "view-in-github",
        "colab_type": "text"
      },
      "source": [
        "<a href=\"https://colab.research.google.com/github/Luizcoral/Cardapio/blob/main/Ol%C3%A1%2C_este_%C3%A9_o_Colaboratory.ipynb\" target=\"_parent\"><img src=\"https://colab.research.google.com/assets/colab-badge.svg\" alt=\"Open In Colab\"/></a>"
      ]
    },
    {
      "cell_type": "code",
      "source": [
        "class Livro:\n",
        "    def __init__(self, titulo, autor):\n",
        "        self.titulo = titulo\n",
        "        self.autor = autor\n",
        "        self.disponivel = True  # Por padrão, o livro está disponível\n",
        "\n",
        "    def exibir_detalhes(self):\n",
        "        status = \"Disponível\" if self.disponivel else \"Indisponível\"\n",
        "        print(f\"Título: {self.titulo}, Autor: {self.autor}, Status: {status}\")\n",
        "\n",
        "class Usuario:\n",
        "    def __init__(self, nome):\n",
        "        self.nome = nome\n",
        "        self.livros_emprestados = []\n",
        "\n",
        "    def emprestar_livro(self, livro):\n",
        "        if livro.disponivel:\n",
        "            livro.disponivel = False\n",
        "            self.livros_emprestados.append(livro)\n",
        "            print(f\"{self.nome} emprestou o livro '{livro.titulo}'.\")\n",
        "        else:\n",
        "            print(f\"O livro '{livro.titulo}' não está disponível no momento.\")\n",
        "\n",
        "    def devolver_livro(self, livro):\n",
        "        if livro in self.livros_emprestados:\n",
        "            livro.disponivel = True\n",
        "            self.livros_emprestados.remove(livro)\n",
        "            print(f\"{self.nome} devolveu o livro '{livro.titulo}'.\")\n",
        "        else:\n",
        "            print(f\"{self.nome} não possui o livro '{livro.titulo}' para devolver.\")\n",
        "\n",
        "class Biblioteca:\n",
        "    def __init__(self, nome):\n",
        "        self.nome = nome\n",
        "        self.livros = []\n",
        "\n",
        "    def adicionar_livro(self, livro):\n",
        "        self.livros.append(livro)\n",
        "        print(f\"O livro '{livro.titulo}' foi adicionado à biblioteca '{self.nome}'.\")\n",
        "\n",
        "    def exibir_livros_disponiveis(self):\n",
        "        print(f\"Livros disponíveis na biblioteca '{self.nome}':\")\n",
        "        for livro in self.livros:\n",
        "            if livro.disponivel:\n",
        "                livro.exibir_detalhes()\n",
        "\n",
        "# Criar instâncias das classes\n",
        "biblioteca = Biblioteca(\"Biblioteca Central\")\n",
        "\n",
        "# Criar alguns livros\n",
        "livro1 = Livro(\"O Senhor dos Anéis\", \"J.R.R. Tolkien\")\n",
        "livro2 = Livro(\"1984\", \"George Orwell\")\n",
        "livro3 = Livro(\"Dom Quixote\", \"Miguel de Cervantes\")\n",
        "\n",
        "# Adicionar os livros à biblioteca\n",
        "biblioteca.adicionar_livro(livro1)\n",
        "biblioteca.adicionar_livro(livro2)\n",
        "biblioteca.adicionar_livro(livro3)\n",
        "\n",
        "# Criar um usuário\n",
        "usuario = Usuario(\"Maria\")\n",
        "\n",
        "# Exibir livros disponíveis antes do empréstimo\n",
        "biblioteca.exibir_livros_disponiveis()\n",
        "\n",
        "# Emprestar alguns livros\n",
        "usuario.emprestar_livro(livro1)\n",
        "usuario.emprestar_livro(livro2)\n",
        "\n",
        "# Exibir livros disponíveis após o empréstimo\n",
        "biblioteca.exibir_livros_disponiveis()\n",
        "\n",
        "# Devolver um livro\n",
        "usuario.devolver_livro(livro1)\n",
        "\n",
        "# Exibir livros disponíveis após a devolução\n",
        "biblioteca.exibir_livros_disponiveis()\n"
      ],
      "metadata": {
        "id": "KVHiGfqPO8SR"
      },
      "execution_count": null,
      "outputs": []
    }
  ],
  "metadata": {
    "colab": {
      "name": "Olá, este é o Colaboratory",
      "provenance": [],
      "include_colab_link": true
    },
    "kernelspec": {
      "display_name": "Python 3",
      "name": "python3"
    }
  },
  "nbformat": 4,
  "nbformat_minor": 0
}